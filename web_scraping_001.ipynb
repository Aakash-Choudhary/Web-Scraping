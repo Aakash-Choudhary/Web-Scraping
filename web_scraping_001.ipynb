{
 "cells": [
  {
   "cell_type": "code",
   "execution_count": 9,
   "metadata": {},
   "outputs": [],
   "source": [
    "import pandas as pd\n",
    "import numpy as np"
   ]
  },
  {
   "cell_type": "code",
   "execution_count": 10,
   "metadata": {},
   "outputs": [],
   "source": [
    "from urllib.request import urlopen"
   ]
  },
  {
   "cell_type": "code",
   "execution_count": 11,
   "metadata": {},
   "outputs": [],
   "source": [
    "urlwiki = 'https://en.wikipedia.org/wiki/Peter_Jeffrey_(RAAF_officer)'\n",
    "url = 'https://www.hindustantimes.com/india-news/pm-modi-chairs-cabinet-meeting-amid-ongoing-crisis-in-maharashtra-over-govt-formation/story-pPMG0rmcWJcVYJwLdQHlYI.html'"
   ]
  },
  {
   "cell_type": "code",
   "execution_count": 12,
   "metadata": {},
   "outputs": [],
   "source": [
    "from lxml import html\n",
    "import requests\n",
    "def url_crawler(link):\n",
    "    url = link\n",
    "    list_of_links = []\n",
    "    for page in range(100):\n",
    "        r = requests.get(url + str(page))\n",
    "        source = r.content\n",
    "        page_source = html.fromstring(source)\n",
    "        list_of_links.extend(page_source.xpath('//a/@href'))\n",
    "    return list_of_links"
   ]
  },
  {
   "cell_type": "code",
   "execution_count": 13,
   "metadata": {},
   "outputs": [],
   "source": [
    "def small_links(list_of_link,term):\n",
    "    a=[]\n",
    "    for i in range(len(list_of_link)):\n",
    "        if term not in list_of_link[i]:\n",
    "            a.append(list_of_link[i])\n",
    "    for i in range(len(a)):\n",
    "        list_of_link.remove(a[i])\n",
    "    return list_of_link"
   ]
  },
  {
   "cell_type": "code",
   "execution_count": 14,
   "metadata": {},
   "outputs": [],
   "source": [
    "def clean_links(list_of_links,size):\n",
    "    a=[list_of_links[i] for i in range(len(list_of_links)) if(len(list_of_links[i])>size)]\n",
    "    return a"
   ]
  },
  {
   "cell_type": "code",
   "execution_count": 15,
   "metadata": {},
   "outputs": [
    {
     "data": {
      "text/plain": [
       "21700"
      ]
     },
     "execution_count": 15,
     "metadata": {},
     "output_type": "execute_result"
    }
   ],
   "source": [
    "lol = url_crawler(url)\n",
    "len(lol)"
   ]
  },
  {
   "cell_type": "code",
   "execution_count": 90,
   "metadata": {},
   "outputs": [
    {
     "data": {
      "text/plain": [
       "6642"
      ]
     },
     "execution_count": 90,
     "metadata": {},
     "output_type": "execute_result"
    }
   ],
   "source": [
    "lol_clean = clean_links(lol,45)\n",
    "len(lol_clean)"
   ]
  },
  {
   "cell_type": "code",
   "execution_count": 16,
   "metadata": {},
   "outputs": [
    {
     "data": {
      "text/plain": [
       "4600"
      ]
     },
     "execution_count": 16,
     "metadata": {},
     "output_type": "execute_result"
    }
   ],
   "source": [
    "lol_small = small_links(lol,'new')\n",
    "len(lol_small)"
   ]
  },
  {
   "cell_type": "code",
   "execution_count": null,
   "metadata": {},
   "outputs": [],
   "source": []
  },
  {
   "cell_type": "code",
   "execution_count": 17,
   "metadata": {
    "scrolled": true
   },
   "outputs": [],
   "source": [
    "from newspaper import Article\n",
    "def process(link):\n",
    "    df_text=[]\n",
    "    date=[]\n",
    "    keywords=[]\n",
    "    summary=[]\n",
    "    title=[]\n",
    "    article=Article(link)\n",
    "    article.download()\n",
    "    article.html\n",
    "    article.parse()\n",
    "    df_text.append(article.text)\n",
    "    title.append(article.title)\n",
    "    date.append(article.publish_date)\n",
    "    article.nlp()\n",
    "    keywords.append(article.keywords)\n",
    "    summary.append(article.summary)\n",
    "    #url.append(list_of_links[i])\n",
    "    \n",
    "    return title,df_text,date,keywords,summary"
   ]
  },
  {
   "cell_type": "code",
   "execution_count": 18,
   "metadata": {
    "scrolled": true
   },
   "outputs": [],
   "source": [
    "title,text,date,keywords,summary = process(url)"
   ]
  },
  {
   "cell_type": "code",
   "execution_count": 21,
   "metadata": {},
   "outputs": [
    {
     "name": "stdout",
     "output_type": "stream",
     "text": [
      "['//upload.wikimedia.org/wikipedia/commons/thumb/a/af/NlaJeffrey1942-43.jpg/220px-NlaJeffrey1942-43.jpg\\n', '//upload.wikimedia.org/wikipedia/commons/thumb/c/c5/008315JeffreyTurnbull1941.jpg/260px-008315JeffreyTurnbull1941.jpg\\n', '//upload.wikimedia.org/wikipedia/commons/e/ea/021807CameronJeffrey1941.jpg\\n', '//upload.wikimedia.org/wikipedia/commons/thumb/9/92/AC0072JeffreyTruscottKittyhawks1942.jpg/280px-AC0072JeffreyTruscottKittyhawks1942.jpg\\n', '//upload.wikimedia.org/wikipedia/commons/thumb/2/26/VIC1689Jeffrey1945.jpg/280px-VIC1689Jeffrey1945.jpg\\n']\n"
     ]
    }
   ],
   "source": [
    "#links of all the images on the page\n",
    "from bs4 import BeautifulSoup\n",
    "import re\n",
    "\n",
    "html = urlopen(urlwiki)\n",
    "bs = BeautifulSoup(html, 'html.parser')\n",
    "imagelinks = []\n",
    "images = bs.find_all('img', {'src':re.compile('.jpg')})\n",
    "for image in images: \n",
    "    imagelinks.append(image['src']+'\\n')\n",
    "\n",
    "print(imagelinks)"
   ]
  },
  {
   "cell_type": "code",
   "execution_count": 22,
   "metadata": {},
   "outputs": [
    {
     "data": {
      "text/plain": [
       "['Union Cabinet recommends President’s rule in Maharashtra']"
      ]
     },
     "execution_count": 22,
     "metadata": {},
     "output_type": "execute_result"
    }
   ],
   "source": [
    "title"
   ]
  },
  {
   "cell_type": "code",
   "execution_count": 23,
   "metadata": {},
   "outputs": [
    {
     "data": {
      "text/plain": [
       "['india\\n\\nUpdated: Nov 12, 2019 16:57 IST\\n\\nThe Union Cabinet on Tuesday recommended President’s rule in Maharashtra where no political party has been able to form a government after the assembly polls last month.\\n\\nThe Cabinet decision followed intense speculation for hours that Governor Bhagar Singh Koshyari had recommended President’s rule in the state and an initial denial by the Raj Bhavan in Mumbai.\\n\\nAs speculation reached a feverish pitch, the Governor’s house released a statement saying it has recommended the President’s rule.\\n\\n“Governor of Maharashtra Bhagat Singh Koshyari having been satisfied that as Govt of Maharashtra cannot be carried on in accordance with the Constitution, has today submitted a report as contemplated by the provisions of Article 356 of Constitution (President’s Rule),” read a communique from the Raj Bhavan.\\n\\nAccording to insiders that HT spoke to, the governor’s action came after the NCP conveyed at 12 noon that they needed 48 more hours to form government. The governor refused to do so and sent a report recommending President’s rule.\\n\\nThis Cabinet decision came even as the Nationalist Congress Party (NCP) was in a huddle and the Congress top leaders were on way to Mumbai to streamline the arrangement for the government formation in the state.\\n\\nThe move came as the NCP legislators discussed political developments in the state and authorised party chief Sharad Pawar to take the final call after the scheduled 5 pm meeting with senior Congress leaders who are flying down to Mumbai.\\n\\n“Pawar Sahab will meet Congress leaders KC Venugopal, Mallikarjun Kharge and Ahmed Patel at 5 pm to have detailed discussions. The MLAs have authorised him to take the final call,” NCP leader Nawab Malik said in Mumbai after the NCP meeting.\\n\\nThe state has been in political turmoil since October 24 when Maharashtra assembly results were announced, giving 105 seats to the BJP, 56 to Shiv Sena, 54 to NCP and 44 to the Congress in the House of 288 where the halfway mark is 145.\\n\\nWhile the BJP and Sena fought the elections together they had trouble coming to an agreement about portfolios and about a shared Chief Minister deal with both parties hardening their positions over the issue.\\n\\nKoshyari first invited the BJP to form the government on Saturday, but after the saffron party said it was not in position to show majority, he invited the Shiv Sena to form government on Sunday. The Shiv Sena, however, could not present required letters of support while staking their claim and sought more time which was disallowed.\\n\\nSubsequently, Koshyari invited the NCP to form the government in the state on Monday evening giving a deadline of 8 pm Tuesday. But, even before the deadline could expire, the union Cabinet recommended President’s rule.']"
      ]
     },
     "execution_count": 23,
     "metadata": {},
     "output_type": "execute_result"
    }
   ],
   "source": [
    "text"
   ]
  },
  {
   "cell_type": "code",
   "execution_count": 24,
   "metadata": {},
   "outputs": [
    {
     "data": {
      "text/plain": [
       "[datetime.datetime(2019, 11, 12, 15, 2, 15, tzinfo=tzoffset(None, 19800))]"
      ]
     },
     "execution_count": 24,
     "metadata": {},
     "output_type": "execute_result"
    }
   ],
   "source": [
    "date"
   ]
  },
  {
   "cell_type": "code",
   "execution_count": 25,
   "metadata": {},
   "outputs": [
    {
     "data": {
      "text/plain": [
       "[['cabinet',\n",
       "  'form',\n",
       "  'union',\n",
       "  'presidents',\n",
       "  'recommended',\n",
       "  'rule',\n",
       "  'state',\n",
       "  'ncp',\n",
       "  'congress',\n",
       "  'recommends',\n",
       "  'party',\n",
       "  'sena',\n",
       "  'maharashtra']]"
      ]
     },
     "execution_count": 25,
     "metadata": {},
     "output_type": "execute_result"
    }
   ],
   "source": [
    "keywords"
   ]
  },
  {
   "cell_type": "code",
   "execution_count": null,
   "metadata": {},
   "outputs": [],
   "source": []
  }
 ],
 "metadata": {
  "kernelspec": {
   "display_name": "Python 3",
   "language": "python",
   "name": "python3"
  },
  "language_info": {
   "codemirror_mode": {
    "name": "ipython",
    "version": 3
   },
   "file_extension": ".py",
   "mimetype": "text/x-python",
   "name": "python",
   "nbconvert_exporter": "python",
   "pygments_lexer": "ipython3",
   "version": "3.7.1"
  }
 },
 "nbformat": 4,
 "nbformat_minor": 2
}
